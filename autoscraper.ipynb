{
 "cells": [
  {
   "cell_type": "code",
   "execution_count": 1,
   "id": "f5d1b7ab",
   "metadata": {},
   "outputs": [
    {
     "name": "stderr",
     "output_type": "stream",
     "text": [
      "/Users/prinzmagtulis/.pyenv/versions/3.10.0/lib/python3.10/site-packages/pandas/compat/__init__.py:124: UserWarning: Could not import the lzma module. Your installed Python is incomplete. Attempting to use lzma compression will result in a RuntimeError.\n",
      "  warnings.warn(msg)\n",
      "\n",
      "\n",
      "====== WebDriver manager ======\n",
      "Could not get version for chromium with the any command: /Applications/Chromium.app/Contents/MacOS/Chromium --version\n",
      "Current chromium version is UNKNOWN\n",
      "Get LATEST chromedriver version for UNKNOWN chromium\n",
      "Driver [/Users/prinzmagtulis/.wdm/drivers/chromedriver/mac64/98.0.4758.80/chromedriver] found in cache\n"
     ]
    }
   ],
   "source": [
    "import pandas as pd\n",
    "\n",
    "import time\n",
    "import re\n",
    "\n",
    "import warnings\n",
    "warnings.filterwarnings(\"ignore\")\n",
    "\n",
    "from selenium import webdriver\n",
    "\n",
    "from webdriver_manager.chrome import ChromeDriverManager\n",
    "from webdriver_manager.utils import ChromeType\n",
    "from selenium.webdriver.chrome.options import Options\n",
    "from selenium.webdriver.chrome.service import Service\n",
    "from selenium.webdriver.common.by import By\n",
    "\n",
    "chrome_service = Service(ChromeDriverManager(chrome_type=ChromeType.CHROMIUM).install())\n",
    "\n",
    "chrome_options = Options()\n",
    "options = [\n",
    "    \"--headless\",\n",
    "    \"--disable-gpu\",\n",
    "    \"--window-size=1920,1200\",\n",
    "    \"--ignore-certificate-errors\",\n",
    "    \"--disable-extensions\",\n",
    "    \"--no-sandbox\",\n",
    "    \"--disable-dev-shm-usage\"\n",
    "]\n",
    "for option in options:\n",
    "    chrome_options.add_argument(option)\n",
    "\n",
    "driver = webdriver.Chrome(service=chrome_service, options=chrome_options)"
   ]
  },
  {
   "cell_type": "code",
   "execution_count": 2,
   "id": "e8a51dd3",
   "metadata": {},
   "outputs": [],
   "source": [
    "driver.get(\"https://www.foi.gov.ph/requests\")"
   ]
  },
  {
   "cell_type": "code",
   "execution_count": 3,
   "id": "ade4e1df",
   "metadata": {},
   "outputs": [
    {
     "name": "stdout",
     "output_type": "stream",
     "text": [
      "Clicked next page\n",
      "Clicked next page\n",
      "Clicked next page\n",
      "Clicked next page\n",
      "Clicked next page\n",
      "Clicked next page\n",
      "Clicked next page\n",
      "Clicked next page\n",
      "Clicked next page\n",
      "Clicked next page\n",
      "Clicked next page\n",
      "Clicked next page\n",
      "Clicked next page\n",
      "Clicked next page\n",
      "Clicked next page\n",
      "Clicked next page\n",
      "Clicked next page\n",
      "Clicked next page\n",
      "Clicked next page\n",
      "Clicked next page\n",
      "Clicked next page\n",
      "Clicked next page\n",
      "Clicked next page\n",
      "Clicked next page\n",
      "Clicked next page\n",
      "Clicked next page\n",
      "Clicked next page\n",
      "Clicked next page\n",
      "Clicked next page\n",
      "Clicked next page\n",
      "Clicked next page\n",
      "Clicked next page\n",
      "Clicked next page\n",
      "Clicked next page\n",
      "Clicked next page\n",
      "Clicked next page\n",
      "Clicked next page\n",
      "Clicked next page\n",
      "Clicked next page\n",
      "Clicked next page\n",
      "Clicked next page\n"
     ]
    }
   ],
   "source": [
    "dataset = []\n",
    "while True:\n",
    "    all_div = driver.find_elements(By.CSS_SELECTOR, \".mb10\")\n",
    "    if len(dataset) > 3000:\n",
    "        break\n",
    "    for div in all_div:\n",
    "        data={}\n",
    "        data ['agency'] = div.find_element(By.TAG_NAME, 'span').text\n",
    "        data ['date'] = div.find_element(By.TAG_NAME, 'p').get_attribute('title')\n",
    "        data ['title'] = div.find_element(By.TAG_NAME, 'h4').text\n",
    "        data ['status'] = div.find_element(By.TAG_NAME, 'label').text\n",
    "        data ['purpose'] = div.find_elements(By.TAG_NAME, 'span')[2].text\n",
    "        data ['period_covered'] = div.find_elements(By.TAG_NAME, 'span')[3].text\n",
    "        data ['link'] = div.find_element(By.TAG_NAME, 'a').get_attribute('href')\n",
    "        dataset.append(data)\n",
    "    \n",
    "    driver.find_element(By.XPATH, \"/html/body/section/div/div/div/div[2]/div/div/div/a\").click()"
   ]
  },
  {
   "cell_type": "code",
   "execution_count": 8,
   "id": "365c45a5",
   "metadata": {},
   "outputs": [],
   "source": [
    "timestr = time.strftime(\"%Y%m%d-%H%M%S\")\n",
    "datamatrix= [[1,2,3],[1,2,3],[1,2,3]]\n",
    "x=pd.DataFrame(datamatrix)  \n",
    "df.to_csv(output/fr'foi{timestr}.csv',encoding=\"utf-8\", index=False, header=True)"
   ]
  }
 ],
 "metadata": {
  "kernelspec": {
   "display_name": "Python 3 (ipykernel)",
   "language": "python",
   "name": "python3"
  },
  "language_info": {
   "codemirror_mode": {
    "name": "ipython",
    "version": 3
   },
   "file_extension": ".py",
   "mimetype": "text/x-python",
   "name": "python",
   "nbconvert_exporter": "python",
   "pygments_lexer": "ipython3",
   "version": "3.10.0"
  }
 },
 "nbformat": 4,
 "nbformat_minor": 5
}
